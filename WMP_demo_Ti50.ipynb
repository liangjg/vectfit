{
 "cells": [
  {
   "cell_type": "code",
   "execution_count": 1,
   "metadata": {},
   "outputs": [
    {
     "name": "stderr",
     "output_type": "stream",
     "text": [
      "/home/software/nse/miniconda3/lib/python3.5/site-packages/h5py/__init__.py:34: FutureWarning: Conversion of the second argument of issubdtype from `float` to `np.floating` is deprecated. In future, it will be treated as `np.float64 == np.dtype(float).type`.\n",
      "  from ._conv import register_converters as _register_converters\n"
     ]
    }
   ],
   "source": [
    "%matplotlib inline\n",
    "import os\n",
    "import glob\n",
    "import time\n",
    "import numpy as np\n",
    "import scipy.io\n",
    "import matplotlib.pyplot as plt\n",
    "\n",
    "import openmc.data\n",
    "import vectfit as m"
   ]
  },
  {
   "cell_type": "markdown",
   "metadata": {},
   "source": [
    "## Nuclide"
   ]
  },
  {
   "cell_type": "code",
   "execution_count": 2,
   "metadata": {
    "collapsed": true
   },
   "outputs": [],
   "source": [
    "nuc_name = 'Ti50'\n",
    "endf_file = os.path.join(os.environ['OPENMC_ENDF_DATA'], \"neutrons/n-022_Ti_050.endf\")\n",
    "ace_file = '{}.h5'.format(nuc_name)\n",
    "n_poles = 70"
   ]
  },
  {
   "cell_type": "markdown",
   "metadata": {},
   "source": [
    "## 0K ACE data"
   ]
  },
  {
   "cell_type": "code",
   "execution_count": 3,
   "metadata": {
    "collapsed": true
   },
   "outputs": [],
   "source": [
    "# get 0K ACE data\n",
    "if os.path.isfile(ace_file):\n",
    "    nuc_ce = openmc.data.IncidentNeutron.from_hdf5(ace_file)\n",
    "else:\n",
    "    nuc_ce = openmc.data.IncidentNeutron.from_njoy(endf_file,\n",
    "                                                   temperatures=[0.0], error=0.0005,\n",
    "                                                   broadr=False, heatr=False, purr=False)\n",
    "    nuc_ce.export_to_hdf5(ace_file)"
   ]
  },
  {
   "cell_type": "markdown",
   "metadata": {},
   "source": [
    "## Parse RRR XS"
   ]
  },
  {
   "cell_type": "code",
   "execution_count": 4,
   "metadata": {},
   "outputs": [
    {
     "name": "stdout",
     "output_type": "stream",
     "text": [
      "RRR bound energy: 5.87e+05 eV (idx=9687)\n",
      "First threshold: mt=51, energy=1.59e+06 eV (idx=9707)\n",
      "Energy range to be fitted: 1.00e-05 to 5.87e+05 eV (9688 points)\n"
     ]
    }
   ],
   "source": [
    "# RRR bound\n",
    "endf_res = openmc.data.IncidentNeutron.from_endf(endf_file).resonances\n",
    "rrr_bound_energy = nuc_ce.energy['0K'][-1];\n",
    "try:\n",
    "    rrr = endf_res.resolved\n",
    "except:\n",
    "    rrr = None\n",
    "if rrr is not None and hasattr(rrr, 'energy_max') and \\\n",
    "     type(rrr) is not openmc.data.ResonanceRange:\n",
    "    # openmc.data.ResonanceRange is the base class which has no resonances\n",
    "    rrr_bound_energy = rrr.energy_max\n",
    "else:\n",
    "    # no resolved resonance parameters\n",
    "    print(\"WARNING: no RRR data in ENDF.\")\n",
    "    try:\n",
    "        # set rrr bound as min of unresolved\n",
    "        rrr_bound_energy = endf_res.unresolved.energy_min\n",
    "    except:\n",
    "        print(\"WARNING: no URR data in ENDF.\")\n",
    "\n",
    "rrr_bound_idx = np.searchsorted(nuc_ce.energy['0K'], rrr_bound_energy,\n",
    "                                side='right') - 1\n",
    "\n",
    "print(\"RRR bound energy: {:.2e} eV (idx={})\".format(nuc_ce.energy['0K'][rrr_bound_idx],rrr_bound_idx))\n",
    "\n",
    "# first threshold\n",
    "first_threshold_idx = float(\"inf\")\n",
    "first_threshold_mt = None\n",
    "for mt in nuc_ce.reactions:\n",
    "    threshold_idx = nuc_ce.reactions[mt].xs['0K']._threshold_idx\n",
    "    if threshold_idx > 0 and threshold_idx < first_threshold_idx:\n",
    "        first_threshold_idx = threshold_idx\n",
    "        first_threshold_mt = mt\n",
    "\n",
    "if first_threshold_idx < float(\"inf\"):\n",
    "    print(\"First threshold: mt={}, energy={:.2e} eV (idx={})\".format(\n",
    "        first_threshold_mt, nuc_ce.energy['0K'][first_threshold_idx], first_threshold_idx))\n",
    "\n",
    "# lower of RRR bound and first threshold\n",
    "e_max_idx = min(rrr_bound_idx, first_threshold_idx)\n",
    "\n",
    "print(\"Energy range to be fitted: {:.2e} to {:.2e} eV ({} points)\".format(\n",
    "      nuc_ce.energy['0K'][0], nuc_ce.energy['0K'][e_max_idx], e_max_idx+1))"
   ]
  },
  {
   "cell_type": "code",
   "execution_count": 5,
   "metadata": {
    "collapsed": true
   },
   "outputs": [],
   "source": [
    "# parse energy & xs\n",
    "energy = nuc_ce.energy['0K'][:e_max_idx+1]\n",
    "\n",
    "total_xs = nuc_ce[1].xs['0K'](energy)\n",
    "\n",
    "if 2 in nuc_ce:\n",
    "    elastic_xs = nuc_ce[2].xs['0K'](energy)\n",
    "else:\n",
    "    print(\"WARNING: no elastic scattering xs\")\n",
    "    elastic_xs = np.zeros_like(total_xs)\n",
    "    \n",
    "if 27 in nuc_ce:\n",
    "    absorption_xs = nuc_ce[27].xs['0K'](energy)\n",
    "else:\n",
    "    print(\"WARNING: no absorption xs\")\n",
    "    absorption_xs = np.zeros_like(total_xs)\n",
    "\n",
    "fissinable = False\n",
    "if 18 in nuc_ce:\n",
    "    fission_xs = nuc_ce[18].xs['0K'](energy)\n",
    "    fissinable = True\n",
    "\n",
    "atomic_weight_ratio = nuc_ce.atomic_weight_ratio"
   ]
  },
  {
   "cell_type": "markdown",
   "metadata": {},
   "source": [
    "## Vector Fitting"
   ]
  },
  {
   "cell_type": "code",
   "execution_count": 6,
   "metadata": {
    "collapsed": true
   },
   "outputs": [],
   "source": [
    "# make vectors to be fitted\n",
    "if fissinable:\n",
    "    ce_xs = np.vstack((elastic_xs, absorption_xs, fission_xs))\n",
    "else:\n",
    "    ce_xs = np.vstack((elastic_xs, absorption_xs))\n",
    "\n",
    "Nv = ce_xs.shape[0]\n",
    "f = ce_xs * energy\n",
    "s = np.sqrt(energy)\n",
    "weight = 1.0/f"
   ]
  },
  {
   "cell_type": "code",
   "execution_count": 7,
   "metadata": {
    "collapsed": true
   },
   "outputs": [],
   "source": [
    "# test data: interpolate xs with finer grids\n",
    "Ne = len(energy)\n",
    "N_finer = 10\n",
    "Ne_test = (Ne-1)*N_finer + 1\n",
    "test_energy = np.interp(np.arange(0, Ne_test, 1), np.arange(0, Ne_test, N_finer), energy)\n",
    "test_energy[0] = energy[0]\n",
    "test_energy[-1] = energy[-1]\n",
    "test_s = np.sqrt(test_energy)\n",
    "test_xs_ref = np.zeros((Nv, Ne_test))\n",
    "for i in range(Nv):\n",
    "    test_xs_ref[i] = np.interp(test_energy, energy, ce_xs[i])\n",
    "total_xs_ref = np.interp(test_energy, energy, total_xs)"
   ]
  },
  {
   "cell_type": "code",
   "execution_count": 8,
   "metadata": {
    "collapsed": true
   },
   "outputs": [],
   "source": [
    "# guess poles\n",
    "N = n_poles\n",
    "poles = np.linspace(s[0], s[-1], N//2);\n",
    "poles = poles + poles*0.01j\n",
    "poles = np.sort(np.append(poles, np.conj(poles)))"
   ]
  },
  {
   "cell_type": "code",
   "execution_count": 9,
   "metadata": {},
   "outputs": [
    {
     "name": "stdout",
     "output_type": "stream",
     "text": [
      "Iter 1\n",
      "Max Relative Error:11565.818%,  Satisfaction:7.5%\n",
      "Iter 2\n",
      "Max Relative Error:5754.962%,  Satisfaction:12.3%\n",
      "Iter 3\n",
      "Max Relative Error:10127.759%,  Satisfaction:16.8%\n",
      "Iter 4\n",
      "Max Relative Error:516.630%,  Satisfaction:22.9%\n",
      "Iter 5\n",
      "Max Relative Error:0.553%,  Satisfaction:96.7%\n",
      "Iter 6\n",
      "Max Relative Error:0.553%,  Satisfaction:96.7%\n",
      "Iter 7\n",
      "Max Relative Error:0.553%,  Satisfaction:96.7%\n",
      "Iter 8\n",
      "Max Relative Error:0.553%,  Satisfaction:96.7%\n",
      "Iter 9\n",
      "Max Relative Error:0.553%,  Satisfaction:96.7%\n",
      "Iter 10\n",
      "Max Relative Error:0.553%,  Satisfaction:96.7%\n",
      "Iter 11\n",
      "Max Relative Error:0.553%,  Satisfaction:96.7%\n",
      "Iter 12\n",
      "Max Relative Error:0.553%,  Satisfaction:96.7%\n",
      "Iter 13\n",
      "Max Relative Error:0.553%,  Satisfaction:96.7%\n",
      "Iter 14\n",
      "Max Relative Error:0.553%,  Satisfaction:96.7%\n",
      "Iter 15\n",
      "Max Relative Error:0.553%,  Satisfaction:96.7%\n",
      "Iter 16\n",
      "Max Relative Error:0.553%,  Satisfaction:96.7%\n",
      "Iter 17\n",
      "Max Relative Error:0.553%,  Satisfaction:96.7%\n",
      "Iter 18\n",
      "Max Relative Error:0.553%,  Satisfaction:96.7%\n",
      "Iter 19\n",
      "Max Relative Error:0.553%,  Satisfaction:96.7%\n",
      "Iter 20\n",
      "Max Relative Error:0.553%,  Satisfaction:96.7%\n"
     ]
    }
   ],
   "source": [
    "# fitting iterations\n",
    "for i in range(20):\n",
    "    print(\"Iter {}\".format(i+1))\n",
    "    poles, residues, cf, f_fit, rms = m.vectfit(f, s, poles, weight)\n",
    "    # calculate xs using fitting poles and residues\n",
    "    test_xs = m.evaluate(test_s, poles, residues, cf)/test_energy\n",
    "    total_xs_test = test_xs[0]+test_xs[1]\n",
    "    abserr = np.abs(test_xs - test_xs_ref)\n",
    "    relerr = abserr/test_xs_ref\n",
    "    maxrelerr = np.max(relerr[abserr > 1E-5])\n",
    "    satisfaction = ((relerr < 0.001) | (abserr < 1E-5)).sum()/np.size(relerr)\n",
    "    print(\"Max Relative Error:{:.3f}%,  Satisfaction:{:.1f}%\".format(maxrelerr*100, satisfaction*100))\n",
    "    if satisfaction >= 1.0:\n",
    "        print(\"Found ideal results. Stop!\")\n",
    "        break"
   ]
  },
  {
   "cell_type": "code",
   "execution_count": 10,
   "metadata": {},
   "outputs": [
    {
     "data": {
      "text/plain": [
       "array([2044.40893123+1.01705774e+03j, 2044.40893123-1.01705774e+03j,\n",
       "       -258.00656827+1.06658014e+03j, -258.00656827-1.06658014e+03j,\n",
       "         -3.67476876+1.36050478e+02j,   -3.67476876-1.36050478e+02j,\n",
       "          7.87961454+1.53011726e+02j,    7.87961454-1.53011726e+02j,\n",
       "        765.50618233+2.95497721e-01j,  765.50618233-2.95497721e-01j,\n",
       "        130.34569421+7.17308918e-04j,  130.34569421-7.17308918e-04j,\n",
       "        711.33415667+1.04515063e+00j,  711.33415667-1.04515063e+00j,\n",
       "        685.56514561+3.52442280e-01j,  685.56514561-3.52442280e-01j,\n",
       "        237.69552513+9.16185962e-01j,  237.69552513-9.16185962e-01j,\n",
       "        233.19519721+5.03866514e-04j,  233.19519721-5.03866514e-04j,\n",
       "        368.10320739+8.09316911e-02j,  368.10320739-8.09316911e-02j,\n",
       "        347.27509077+5.05657152e-02j,  347.27509077-5.05657152e-02j,\n",
       "        276.58629318+6.96518397e-02j,  276.58629318-6.96518397e-02j,\n",
       "        280.62399964+1.39294167e-01j,  280.62399964-1.39294167e-01j,\n",
       "        285.79713085+3.14907728e-04j,  285.79713085-3.14907728e-04j,\n",
       "        290.77475895+9.27900653e-02j,  290.77475895-9.27900653e-02j,\n",
       "        295.60108155+1.14320355e-02j,  295.60108155-1.14320355e-02j,\n",
       "        303.31492609+1.10462541e-01j,  303.31492609-1.10462541e-01j,\n",
       "        312.40997131+4.66871619e-02j,  312.40997131-4.66871619e-02j,\n",
       "        318.43366656+5.20514088e-04j,  318.43366656-5.20514088e-04j,\n",
       "        588.21763093+7.06496280e-02j,  588.21763093-7.06496280e-02j,\n",
       "        584.80763602+8.77240541e-02j,  584.80763602-8.77240541e-02j,\n",
       "        575.32599005+3.70478908e-02j,  575.32599005-3.70478908e-02j,\n",
       "        554.00231576+9.02452542e+00j,  554.00231576-9.02452542e+00j,\n",
       "        430.81230542+8.71085102e-01j,  430.81230542-8.71085102e-01j,\n",
       "        440.45428382+7.56026501e-02j,  440.45428382-7.56026501e-02j,\n",
       "        538.79495047+1.28148266e-02j,  538.79495047-1.28148266e-02j,\n",
       "        474.44702876+6.43712969e-02j,  474.44702876-6.43712969e-02j,\n",
       "        476.44508158+1.43792520e-01j,  476.44508158-1.43792520e-01j,\n",
       "        483.21833656+9.83733546e-02j,  483.21833656-9.83733546e-02j,\n",
       "        507.83854981+4.30014217e-02j,  507.83854981-4.30014217e-02j,\n",
       "        494.97468907+1.19257889e-01j,  494.97468907-1.19257889e-01j,\n",
       "        497.99595384+8.64420643e-02j,  497.99595384-8.64420643e-02j,\n",
       "        502.59327036+3.40126022e-02j,  502.59327036-3.40126022e-02j,\n",
       "        500.49973814+5.50965717e-02j,  500.49973814-5.50965717e-02j])"
      ]
     },
     "execution_count": 10,
     "metadata": {},
     "output_type": "execute_result"
    }
   ],
   "source": [
    "poles"
   ]
  },
  {
   "cell_type": "markdown",
   "metadata": {},
   "source": [
    "## Plot"
   ]
  },
  {
   "cell_type": "code",
   "execution_count": 11,
   "metadata": {},
   "outputs": [
    {
     "data": {
      "image/png": "[encoded data removed]",
      "text/plain": [
       "<Figure size 432x288 with 2 Axes>"
      ]
     },
     "metadata": {},
     "output_type": "display_data"
    }
   ],
   "source": [
    "ax1 = plt.subplot(211)\n",
    "ax1.loglog(energy, total_xs, '.', label=\"ce xs\")\n",
    "ax1.loglog(test_energy, total_xs_ref, label=\"ce xs (test)\")\n",
    "ax1.loglog(test_energy, total_xs_test, label=\"mp xs (test)\")\n",
    "ax1.set_ylabel(\"total cross section(b)\")\n",
    "ax1.legend()\n",
    "plt.setp(ax1.get_xticklabels(), visible=False)\n",
    "\n",
    "ax2 = plt.subplot(212)\n",
    "ax2.loglog(test_energy, np.abs(total_xs_ref - total_xs_test)/total_xs_ref)\n",
    "ax2.set_xlabel('energy (eV)')\n",
    "ax2.set_ylabel('relative error')\n",
    "plt.show()"
   ]
  }
 ],
 "metadata": {
  "kernelspec": {
   "display_name": "Python 3",
   "language": "python",
   "name": "python3"
  },
  "language_info": {
   "codemirror_mode": {
    "name": "ipython",
    "version": 3
   },
   "file_extension": ".py",
   "mimetype": "text/x-python",
   "name": "python",
   "nbconvert_exporter": "python",
   "pygments_lexer": "ipython3",
   "version": "3.5.5"
  }
 },
 "nbformat": 4,
 "nbformat_minor": 2
}
