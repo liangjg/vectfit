{
 "cells": [
  {
   "cell_type": "code",
   "execution_count": 1,
   "metadata": {},
   "outputs": [
    {
     "name": "stderr",
     "output_type": "stream",
     "text": [
      "/home/software/nse/miniconda3/lib/python3.5/site-packages/h5py/__init__.py:34: FutureWarning: Conversion of the second argument of issubdtype from `float` to `np.floating` is deprecated. In future, it will be treated as `np.float64 == np.dtype(float).type`.\n",
      "  from ._conv import register_converters as _register_converters\n"
     ]
    }
   ],
   "source": [
    "%matplotlib inline\n",
    "import os\n",
    "import glob\n",
    "import time\n",
    "import numpy as np\n",
    "import scipy.io\n",
    "import matplotlib.pyplot as plt\n",
    "\n",
    "import openmc.data\n",
    "import vectfit as m"
   ]
  },
  {
   "cell_type": "markdown",
   "metadata": {},
   "source": [
    "## Nuclide"
   ]
  },
  {
   "cell_type": "code",
   "execution_count": 2,
   "metadata": {
    "collapsed": true
   },
   "outputs": [],
   "source": [
    "nuc_name = 'S33'\n",
    "endf_file = os.path.join(os.environ['OPENMC_ENDF_DATA'],\"neutrons/n-016_S_033.endf\")\n",
    "ace_file = '{}.h5'.format(nuc_name)\n",
    "n_poles = 20"
   ]
  },
  {
   "cell_type": "markdown",
   "metadata": {},
   "source": [
    "## 0K ACE data"
   ]
  },
  {
   "cell_type": "code",
   "execution_count": 3,
   "metadata": {
    "collapsed": true
   },
   "outputs": [],
   "source": [
    "# get 0K ACE data\n",
    "if os.path.isfile(ace_file):\n",
    "    nuc_ce = openmc.data.IncidentNeutron.from_hdf5(ace_file)\n",
    "else:\n",
    "    nuc_ce = openmc.data.IncidentNeutron.from_njoy(endf_file,\n",
    "                                                   temperatures=[0.0], error=0.0005,\n",
    "                                                   broadr=False, heatr=False, purr=False)\n",
    "    nuc_ce.export_to_hdf5(ace_file)"
   ]
  },
  {
   "cell_type": "markdown",
   "metadata": {},
   "source": [
    "## Parse RRR XS"
   ]
  },
  {
   "cell_type": "code",
   "execution_count": 4,
   "metadata": {},
   "outputs": [
    {
     "name": "stdout",
     "output_type": "stream",
     "text": [
      "RRR bound energy: 2.60e+05 eV (idx=4142)\n",
      "First threshold: mt=51, energy=8.66e+05 eV (idx=4168)\n",
      "Energy range to be fitted: 1.00e-05 to 2.60e+05 eV (4143 points)\n"
     ]
    }
   ],
   "source": [
    "# RRR bound\n",
    "endf_res = openmc.data.IncidentNeutron.from_endf(endf_file).resonances\n",
    "rrr_bound_energy = nuc_ce.energy['0K'][-1];\n",
    "try:\n",
    "    rrr = endf_res.resolved\n",
    "except:\n",
    "    rrr = None\n",
    "if rrr is not None and hasattr(rrr, 'energy_max') and \\\n",
    "     type(rrr) is not openmc.data.ResonanceRange:\n",
    "    # openmc.data.ResonanceRange is the base class which has no resonances\n",
    "    rrr_bound_energy = rrr.energy_max\n",
    "else:\n",
    "    # no resolved resonance parameters\n",
    "    print(\"WARNING: no RRR data in ENDF.\")\n",
    "    try:\n",
    "        # set rrr bound as min of unresolved\n",
    "        rrr_bound_energy = endf_res.unresolved.energy_min\n",
    "    except:\n",
    "        print(\"WARNING: no URR data in ENDF.\")\n",
    "\n",
    "rrr_bound_idx = np.searchsorted(nuc_ce.energy['0K'], rrr_bound_energy,\n",
    "                                side='right') - 1\n",
    "\n",
    "print(\"RRR bound energy: {:.2e} eV (idx={})\".format(nuc_ce.energy['0K'][rrr_bound_idx],rrr_bound_idx))\n",
    "\n",
    "# first threshold\n",
    "first_threshold_idx = float(\"inf\")\n",
    "first_threshold_mt = None\n",
    "for mt in nuc_ce.reactions:\n",
    "    threshold_idx = nuc_ce.reactions[mt].xs['0K']._threshold_idx\n",
    "    if threshold_idx > 0 and threshold_idx < first_threshold_idx:\n",
    "        first_threshold_idx = threshold_idx\n",
    "        first_threshold_mt = mt\n",
    "\n",
    "if first_threshold_idx < float(\"inf\"):\n",
    "    print(\"First threshold: mt={}, energy={:.2e} eV (idx={})\".format(\n",
    "        first_threshold_mt, nuc_ce.energy['0K'][first_threshold_idx], first_threshold_idx))\n",
    "\n",
    "# lower of RRR bound and first threshold\n",
    "e_max_idx = min(rrr_bound_idx, first_threshold_idx)\n",
    "\n",
    "print(\"Energy range to be fitted: {:.2e} to {:.2e} eV ({} points)\".format(\n",
    "      nuc_ce.energy['0K'][0], nuc_ce.energy['0K'][e_max_idx], e_max_idx+1))"
   ]
  },
  {
   "cell_type": "code",
   "execution_count": 5,
   "metadata": {
    "collapsed": true
   },
   "outputs": [],
   "source": [
    "# parse energy & xs\n",
    "energy = nuc_ce.energy['0K'][:e_max_idx+1]\n",
    "\n",
    "total_xs = nuc_ce[1].xs['0K'](energy)\n",
    "\n",
    "if 2 in nuc_ce:\n",
    "    elastic_xs = nuc_ce[2].xs['0K'](energy)\n",
    "else:\n",
    "    print(\"WARNING: no elastic scattering xs\")\n",
    "    elastic_xs = np.zeros_like(total_xs)\n",
    "    \n",
    "if 27 in nuc_ce:\n",
    "    absorption_xs = nuc_ce[27].xs['0K'](energy)\n",
    "else:\n",
    "    print(\"WARNING: no absorption xs\")\n",
    "    absorption_xs = np.zeros_like(total_xs)\n",
    "\n",
    "fissinable = False\n",
    "if 18 in nuc_ce:\n",
    "    fission_xs = nuc_ce[18].xs['0K'](energy)\n",
    "    fissinable = True\n",
    "\n",
    "atomic_weight_ratio = nuc_ce.atomic_weight_ratio"
   ]
  },
  {
   "cell_type": "markdown",
   "metadata": {},
   "source": [
    "## Vector Fitting"
   ]
  },
  {
   "cell_type": "code",
   "execution_count": 6,
   "metadata": {
    "collapsed": true
   },
   "outputs": [],
   "source": [
    "# make vectors to be fitted\n",
    "if fissinable:\n",
    "    ce_xs = np.vstack((elastic_xs, absorption_xs, fission_xs))\n",
    "else:\n",
    "    ce_xs = np.vstack((elastic_xs, absorption_xs))\n",
    "\n",
    "Nv = ce_xs.shape[0]\n",
    "f = ce_xs * energy\n",
    "s = np.sqrt(energy)\n",
    "weight = 1.0/f"
   ]
  },
  {
   "cell_type": "code",
   "execution_count": 7,
   "metadata": {
    "collapsed": true
   },
   "outputs": [],
   "source": [
    "# test data: interpolate xs with finer grids\n",
    "Ne = len(energy)\n",
    "N_finer = 10\n",
    "Ne_test = (Ne-1)*N_finer + 1\n",
    "test_energy = np.interp(np.arange(0, Ne_test, 1), np.arange(0, Ne_test, N_finer), energy)\n",
    "test_energy[0] = energy[0]\n",
    "test_energy[-1] = energy[-1]\n",
    "test_s = np.sqrt(test_energy)\n",
    "test_xs_ref = np.zeros((Nv, Ne_test))\n",
    "for i in range(Nv):\n",
    "    test_xs_ref[i] = np.interp(test_energy, energy, ce_xs[i])\n",
    "total_xs_ref = np.interp(test_energy, energy, total_xs)"
   ]
  },
  {
   "cell_type": "code",
   "execution_count": 8,
   "metadata": {
    "collapsed": true
   },
   "outputs": [],
   "source": [
    "# guess poles\n",
    "N = n_poles\n",
    "poles = np.linspace(s[0], s[-1], N//2);\n",
    "poles = poles + poles*0.01j\n",
    "poles = np.sort(np.append(poles, np.conj(poles)))"
   ]
  },
  {
   "cell_type": "code",
   "execution_count": 9,
   "metadata": {},
   "outputs": [
    {
     "name": "stdout",
     "output_type": "stream",
     "text": [
      "Iter 1\n",
      "Max Relative Error:1344.371%,  Satisfaction:7.1%\n",
      "Iter 2\n",
      "Max Relative Error:3.217%,  Satisfaction:82.2%\n",
      "Iter 3\n",
      "Max Relative Error:0.054%,  Satisfaction:100.0%\n",
      "Found ideal results. Stop!\n"
     ]
    }
   ],
   "source": [
    "# fitting iterations\n",
    "for i in range(20):\n",
    "    print(\"Iter {}\".format(i+1))\n",
    "    poles, residues, cf, f_fit, rms = m.vectfit(f, s, poles, weight)\n",
    "    # calculate xs using fitting poles and residues\n",
    "    test_xs = m.evaluate(test_s, poles, residues, cf)/test_energy\n",
    "    total_xs_test = test_xs[0]+test_xs[1]\n",
    "    abserr = np.abs(test_xs - test_xs_ref)\n",
    "    relerr = abserr/test_xs_ref\n",
    "    maxrelerr = np.max(relerr[abserr > 1E-5])\n",
    "    satisfaction = ((relerr < 0.001) | (abserr < 1E-5)).sum()/np.size(relerr)\n",
    "    print(\"Max Relative Error:{:.3f}%,  Satisfaction:{:.1f}%\".format(maxrelerr*100, satisfaction*100))\n",
    "    if satisfaction >= 1.0:\n",
    "        print(\"Found ideal results. Stop!\")\n",
    "        break"
   ]
  },
  {
   "cell_type": "code",
   "execution_count": 10,
   "metadata": {},
   "outputs": [
    {
     "data": {
      "text/plain": [
       "array([-1175.52980067+0.00000000e+00j,   750.18646812+1.26498369e+03j,\n",
       "         750.18646812-1.26498369e+03j,  1081.57231511+0.00000000e+00j,\n",
       "           3.08371226+7.61467695e+01j,     3.08371226-7.61467695e+01j,\n",
       "         470.10590208+6.59804747e-01j,   470.10590208-6.59804747e-01j,\n",
       "         357.07114016+4.48559759e-01j,   357.07114016-4.48559759e-01j,\n",
       "         115.97413051+3.59564083e-02j,   115.97413051-3.59564083e-02j,\n",
       "         154.69321802+8.72847373e-02j,   154.69321802-8.72847373e-02j,\n",
       "         278.74700207+3.41418361e-01j,   278.74700207-3.41418361e-01j,\n",
       "         231.30046967+3.00457974e-01j,   231.30046967-3.00457974e-01j,\n",
       "         228.03491454+2.81407197e-01j,   228.03491454-2.81407197e-01j])"
      ]
     },
     "execution_count": 10,
     "metadata": {},
     "output_type": "execute_result"
    }
   ],
   "source": [
    "poles"
   ]
  },
  {
   "cell_type": "markdown",
   "metadata": {},
   "source": [
    "## Plot"
   ]
  },
  {
   "cell_type": "code",
   "execution_count": 11,
   "metadata": {},
   "outputs": [
    {
     "data": {
      "image/png": "[encoded data removed]",
      "text/plain": [
       "<Figure size 432x288 with 2 Axes>"
      ]
     },
     "metadata": {},
     "output_type": "display_data"
    }
   ],
   "source": [
    "ax1 = plt.subplot(211)\n",
    "ax1.loglog(energy, total_xs, '.', label=\"ce xs\")\n",
    "ax1.loglog(test_energy, total_xs_ref, label=\"ce xs (test)\")\n",
    "ax1.loglog(test_energy, total_xs_test, label=\"mp xs (test)\")\n",
    "ax1.set_ylabel(\"total cross section(b)\")\n",
    "ax1.legend()\n",
    "plt.setp(ax1.get_xticklabels(), visible=False)\n",
    "\n",
    "ax2 = plt.subplot(212)\n",
    "ax2.loglog(test_energy, np.abs(total_xs_ref - total_xs_test)/total_xs_ref)\n",
    "ax2.set_xlabel('energy (eV)')\n",
    "ax2.set_ylabel('relative error')\n",
    "plt.show()"
   ]
  }
 ],
 "metadata": {
  "kernelspec": {
   "display_name": "Python 3",
   "language": "python",
   "name": "python3"
  },
  "language_info": {
   "codemirror_mode": {
    "name": "ipython",
    "version": 3
   },
   "file_extension": ".py",
   "mimetype": "text/x-python",
   "name": "python",
   "nbconvert_exporter": "python",
   "pygments_lexer": "ipython3",
   "version": "3.5.5"
  }
 },
 "nbformat": 4,
 "nbformat_minor": 2
}
